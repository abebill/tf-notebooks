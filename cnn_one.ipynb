{
 "cells": [
  {
   "cell_type": "code",
   "execution_count": 1,
   "metadata": {},
   "outputs": [
    {
     "data": {
      "text/plain": [
       "[]"
      ]
     },
     "execution_count": 1,
     "metadata": {},
     "output_type": "execute_result"
    }
   ],
   "source": [
    "# http://vision.stanford.edu/aditya86/ImageNetDogs/\n",
    "import glob\n",
    "\n",
    "image_filenames = glob.glob('./imagenet-dogs/n02*/*.jpg')\n",
    "image_filenames[0:2]"
   ]
  },
  {
   "cell_type": "code",
   "execution_count": null,
   "metadata": {},
   "outputs": [],
   "source": [
    "from itertools import groupby \n",
    "from collectios import defaultdict\n",
    "\n",
    "training_dataset = defaultdict(list)\n",
    "testing_dataset = defaultdict(list)\n",
    "\n",
    "image_filename_with_breed = map(lambda filename: (filename.split('/')[2], filename), image_filenames)\n",
    "for dog_breed, breed_images in groupby(image_filename_with_breed, lambda x: x[0]):\n",
    "    for i, breed_image in enumerate(breed_images):\n",
    "        if i % 5 == 0:\n",
    "            testing_dataset[dog_breed].append(breed_image[1])\n",
    "        else:\n",
    "            training_dataset[dog_breed].append(breed_image[1])\n",
    "\n",
    "breed_training_count = len(training_dataset[dog_breed])\n",
    "breed_testing_count = len(testing_dataset[dog_breed])\n",
    "\n",
    "assert round(breed_testing_count / (breed_training_count + breed_testing_count), 2) > 0.18, 'Not enough testing images'\n",
    "\n",
    "def write_records_file(dataset, record_location):\n",
    "    writer = None\n",
    "    current_index = 0\n",
    "    for breed, images_filenames in dataset.items():\n",
    "        for image_filename in images_filenames:\n",
    "            if current_index % 100 == 0:\n",
    "                if writer:\n",
    "                    writer.close()\n",
    "                record_filename = '{record_location}-{current_index}.tfrecords'.format(record_location=record_location,current_index=current_index)\n",
    "                writer = tf.python_io.TFRecordWriter(record_filename)\n",
    "            current_index += 1\n",
    "            image_file = tf.read_file(image_filename)\n",
    "            try:\n",
    "                image = tf.image.decode_jpeg(image_file)\n",
    "            except:\n",
    "                print(image_filename)\n",
    "                continue\n",
    "                \n",
    "            grayscale_image = tf.image.rgb_to_grayscale(image)\n",
    "            resized_image = tf.image.resize_images(grayscale_image, 250, 151)\n",
    "            image_bytes = sess.run(tf.cast(resized_image, tf.uint8)).tobytes()\n",
    "            image_label = breed.encode('utf-8')\n",
    "            example = tf.train.Example(features = tf.train.Features(feature={'label':tf.train.Feature(bytes_list=tf.train.BytesList(value=[image_label])),\n",
    "                                                                            'image':tf.train.Feature(byte_list=tf.train.BytesList(value=[image_bytes]))\n",
    "                                                                            }))\n",
    "            writer.write(example.SerializeToString())\n",
    "            writer.close()\n",
    "\n",
    "write_records_file(testing_dataset, './output/testing-images/testing-image')\n",
    "write_records_file(training_dataset, './output/training-images/training-image')"
   ]
  }
 ],
 "metadata": {
  "kernelspec": {
   "display_name": "Python 2",
   "language": "python",
   "name": "python2"
  },
  "language_info": {
   "codemirror_mode": {
    "name": "ipython",
    "version": 2
   },
   "file_extension": ".py",
   "mimetype": "text/x-python",
   "name": "python",
   "nbconvert_exporter": "python",
   "pygments_lexer": "ipython2",
   "version": "2.7.6"
  }
 },
 "nbformat": 4,
 "nbformat_minor": 2
}
