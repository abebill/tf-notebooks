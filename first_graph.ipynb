{
 "cells": [
  {
   "cell_type": "code",
   "execution_count": 1,
   "metadata": {},
   "outputs": [],
   "source": [
    "import tensorflow as tf"
   ]
  },
  {
   "cell_type": "code",
   "execution_count": 2,
   "metadata": {},
   "outputs": [],
   "source": [
    "#create a new graph\n",
    "graph = tf.Graph()\n",
    "with graph.as_default():  #set the new graph as default graph\n",
    "    \n",
    "    #create a scope with global variales\n",
    "    with tf.name_scope('variales'):\n",
    "        global_step = tf.Variable(0, dtype=tf.int32, trainable=False, name='global_step')\n",
    "        total_output = tf.Variable(0.0, dtype=tf.float32, trainable=False, name='total_output')\n",
    "    \n",
    "    #create a scope with data transport\n",
    "    with tf.name_scope('transformation'):\n",
    "        with tf.name_scope('input'):\n",
    "            a = tf.placeholder(tf.float32, shape=[None], name='input_placeholser_a')\n",
    "        with tf.name_scope('inter_layer'):\n",
    "            b = tf.reduce_prod(a, name='mul_b')\n",
    "            c = tf.reduce_sum(a, name='add_c')\n",
    "        with tf.name_scope('output'):\n",
    "            output = tf.add(b, c, name='output')\n",
    "            \n",
    "    with tf.name_scope('update'):\n",
    "        update_total = total_output.assign_add(output)\n",
    "        increment_step = global_step.assign_add(1)\n",
    "        \n",
    "    with tf.name_scope('summaries'):\n",
    "        avg = tf.div(update_total, tf.cast(increment_step, tf.float32), name='average')\n",
    "        tf.scalar_summary(b'Output', output, name='output_summary')\n",
    "        tf.scalar_summary(b'Sum of outputs over time', update_total, name='total_summary')\n",
    "        tf.scalar_summary(b'Average of outputs over time', avg, name='average_summary')\n",
    "        \n",
    "    with tf.name_scope('global_ops'):\n",
    "        init = tf.initialize_all_variables()\n",
    "        merged_summaries = tf.merge_all_summaries()\n",
    "        \n",
    "sess = tf.Session(graph=graph)\n",
    "writer = tf.train.SummaryWriter('./tensorflow_graphs', graph)\n",
    "sess.run(init)\n",
    "\n",
    "def run_graph(input_tensor):\n",
    "    feed_dict = {a: input_tensor}\n",
    "    _, step, summary = sess.run([output, increment_step, merged_summaries], feed_dict=feed_dict,)\n",
    "    writer.add_summary(summary, global_step=step)\n",
    "\n",
    "run_graph([2,8])\n",
    "run_graph([3,1,3,3])\n",
    "run_graph([2,5])\n",
    "run_graph([1,4,6])\n",
    "run_graph([3,5,7,9])\n",
    "run_graph([2,32,5,6])\n",
    "run_graph([2,3,1])\n",
    "run_graph([6,8,9])\n",
    "\n",
    "writer.flush()\n",
    "writer.close()\n",
    "sess.close()"
   ]
  },
  {
   "cell_type": "code",
   "execution_count": null,
   "metadata": {},
   "outputs": [],
   "source": []
  }
 ],
 "metadata": {
  "kernelspec": {
   "display_name": "Python 2",
   "language": "python",
   "name": "python2"
  },
  "language_info": {
   "codemirror_mode": {
    "name": "ipython",
    "version": 2
   },
   "file_extension": ".py",
   "mimetype": "text/x-python",
   "name": "python",
   "nbconvert_exporter": "python",
   "pygments_lexer": "ipython2",
   "version": "2.7.6"
  }
 },
 "nbformat": 4,
 "nbformat_minor": 2
}
