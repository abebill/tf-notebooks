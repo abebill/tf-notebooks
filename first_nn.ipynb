{
 "cells": [
  {
   "cell_type": "code",
   "execution_count": 1,
   "metadata": {},
   "outputs": [],
   "source": [
    "import tensorflow as tf"
   ]
  },
  {
   "cell_type": "code",
   "execution_count": 6,
   "metadata": {},
   "outputs": [
    {
     "name": "stdout",
     "output_type": "stream",
     "text": [
      "[  0 255   0]\n"
     ]
    }
   ],
   "source": [
    "image_batch = tf.constant([\n",
    "    [\n",
    "        [[0, 255, 0], [0, 255, 0], [0, 255, 0]],\n",
    "        [[0, 255, 0], [0, 255, 0], [0, 255, 0]]\n",
    "    ],\n",
    "    [\n",
    "        [[0, 255, 0], [0, 255, 0], [0, 255, 0]],\n",
    "        [[0, 255, 0], [0, 255, 0], [0, 255, 0]]\n",
    "    ]\n",
    "])\n",
    "\n",
    "#image_batch.get_shape()\n",
    "with tf.Session() as sess:\n",
    "    print(sess.run(image_batch)[0][0][0])"
   ]
  },
  {
   "cell_type": "code",
   "execution_count": 10,
   "metadata": {},
   "outputs": [
    {
     "name": "stdout",
     "output_type": "stream",
     "text": [
      "[[[[  0.   0.]\n",
      "   [  1.   2.]]\n",
      "\n",
      "  [[  2.   4.]\n",
      "   [  3.   6.]]]\n",
      "\n",
      "\n",
      " [[[  2.   4.]\n",
      "   [  3.   6.]]\n",
      "\n",
      "  [[  4.   8.]\n",
      "   [  5.  10.]]]]\n"
     ]
    }
   ],
   "source": [
    "input_batch = tf.constant([\n",
    "    [\n",
    "        [[0.0], [1.0]],\n",
    "        [[2.0], [3.0]]\n",
    "    ],\n",
    "    [\n",
    "        [[2.0], [3.0]],\n",
    "        [[4.0], [5.0]]\n",
    "    ]\n",
    "])\n",
    "\n",
    "kernel = tf.constant([\n",
    "    [\n",
    "        [[1.0, 2.0]]\n",
    "    ]\n",
    "])\n",
    "\n",
    "#input_batch.get_shape()\n",
    "#kernel.get_shape()\n",
    "\n",
    "conv2d = tf.nn.conv2d(input_batch, kernel, strides=[1, 1, 1, 1], padding='SAME')\n",
    "with tf.Session() as sess:\n",
    "    print(sess.run(conv2d))"
   ]
  },
  {
   "cell_type": "code",
   "execution_count": null,
   "metadata": {},
   "outputs": [],
   "source": []
  }
 ],
 "metadata": {
  "kernelspec": {
   "display_name": "Python 2",
   "language": "python",
   "name": "python2"
  },
  "language_info": {
   "codemirror_mode": {
    "name": "ipython",
    "version": 2
   },
   "file_extension": ".py",
   "mimetype": "text/x-python",
   "name": "python",
   "nbconvert_exporter": "python",
   "pygments_lexer": "ipython2",
   "version": "2.7.6"
  }
 },
 "nbformat": 4,
 "nbformat_minor": 2
}
