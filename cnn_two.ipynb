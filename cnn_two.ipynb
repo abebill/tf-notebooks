{
 "cells": [
  {
   "cell_type": "code",
   "execution_count": null,
   "metadata": {},
   "outputs": [],
   "source": [
    "filename_queue = tf.train.string_input_producer(tf.train.match_filenames_once('./output/training-images/*.tfrecords'))\n",
    "reader = tf.TFRecordReader()\n",
    "_, serialized = reader.read(filename_queue)\n",
    "\n",
    "features = tf.parse_single_example(serialized, features={\n",
    "    'label': tf.FixedLenFeature([], tf.string),\n",
    "    'image': tf.FixedLenFeature([], tf.string),\n",
    "})\n",
    "\n",
    "record_image = tf.decode_raw(features['image'], tf.uint8)\n",
    "\n",
    "image = tf.reshape(record_image, tf.string)\n",
    "min_after_dequeue = 10\n",
    "batch_size = 3\n",
    "capacity = min_after_dequeue + 3 * batch_size\n",
    "image_batch, label_batch = tf.train.shuffle_batch([image, label], batch_size=batch_size, capacity=capacity,\n",
    "                                                 min_after_dequeue=min_after_dequeue)\n",
    "\n",
    "float_image_batch = tf.image.convert_image_dtype(image_batch, tf.float32)\n",
    "conv2d_layer_one = tf.contrib.layers.convolution2d(float_image_batch, num_output_channels=32,\n",
    "                                                  kernel_size=(5,5), activation_fn=tf.nn.relu,weight_init=tf.random_normal,\n",
    "                                                  stride=(2,2), trainable=True)\n",
    "pool_layer_one = tf.nn.max_pool(conv2d_layer_one, ksize=[1,2,2,1], strides=[1,2,2,1], padding='SAME')\n",
    "conv2d_layer_one.get_shape(), pool_layer_one.get_shape()\n",
    "\n",
    "conv2d_layer_two = tf.contrib.layers.convolution2d(pool_layer_one, num_output_channels=64,\n",
    "                                                  kernel_size=(5,5), activation_fn=tf.nn.relu,weight_init=tf.random_normal,\n",
    "                                                  stride=(1,1), trainable=True)\n",
    "pool_layer_two = tf.nn.max_pool(conv2d_layer_two, ksize=[1,2,2,1], strides=[1,2,2,1], padding='SAME')\n",
    "conv2d_layer_two.get_shape(), pool_layer_two.get_shape()\n",
    "\n",
    "flattened_layer_two = tf.reshape(pool_layer_two, [batch_size, -1])\n",
    "flattened_layer_two.get_shape()\n",
    "\n",
    "hidden_layer_three = tf.contrib.layers.fully_connected(flattened_layer_two, 512,\n",
    "                                                      weight_init=lambda i,dtype: tf.truncated_normal([38912,512],stddev=0.1),\n",
    "                                                      activation_fn=tf.nn.relu)\n",
    "hidden_layer_three = tf.nn.dropout(hidden_layer_three, 0.1)\n",
    "final_fully_connected = tf.contrib.layers.fully_connected(hidden_layer_three, 120, \n",
    "                                                          weight_init=lambda i,dtype: tf.truncated_normal([512,120],stddev=0.1))"
   ]
  },
  {
   "cell_type": "code",
   "execution_count": null,
   "metadata": {},
   "outputs": [],
   "source": [
    "import glob\n",
    "\n",
    "labels = list(map(lambda c: c.split('/')[-1], glob.glob('./imagenet-dogs/*')))\n",
    "train_labels = tf.map_fn(lambda l: tf.where(tf.equal(labels, l))[0,0:1][0], label_batch, dtype=tf.int64)"
   ]
  }
 ],
 "metadata": {
  "kernelspec": {
   "display_name": "Python 2",
   "language": "python",
   "name": "python2"
  },
  "language_info": {
   "codemirror_mode": {
    "name": "ipython",
    "version": 2
   },
   "file_extension": ".py",
   "mimetype": "text/x-python",
   "name": "python",
   "nbconvert_exporter": "python",
   "pygments_lexer": "ipython2",
   "version": "2.7.6"
  }
 },
 "nbformat": 4,
 "nbformat_minor": 2
}
