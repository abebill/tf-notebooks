{
 "cells": [
  {
   "cell_type": "code",
   "execution_count": 4,
   "metadata": {},
   "outputs": [],
   "source": [
    "import tensorflow as tf\n",
    "import numpy as np\n",
    "import matplotlib.pyplot as plt"
   ]
  },
  {
   "cell_type": "code",
   "execution_count": 8,
   "metadata": {},
   "outputs": [
    {
     "name": "stdout",
     "output_type": "stream",
     "text": [
      "[[ 0.98929238  0.52136457 -0.78794312  1.54213262 -2.22208905  0.12165031\n",
      "   1.82763803  0.50710362  0.76132327  0.53546125 -0.99516386 -1.11289358\n",
      "   0.86394048 -0.67738414 -0.46797341  0.01051982 -0.21805419 -1.20746803\n",
      "  -0.0046891  -0.37781399]\n",
      " [ 0.63575768 -0.33147261 -2.04213667 -1.0318774   1.11926675 -0.14419407\n",
      "   1.62332606 -1.51568508  0.72390532 -0.37920856  0.52311689  0.62100852\n",
      "  -0.26024398  0.07258406  0.28141871  0.25427172  0.96156633 -0.86325979\n",
      "   0.66657788  0.63238192]]\n",
      "[ 0.98929238  0.52136457 -0.78794312  1.54213262 -2.22208905  0.12165031\n",
      "  1.82763803  0.50710362  0.76132327  0.53546125 -0.99516386 -1.11289358\n",
      "  0.86394048 -0.67738414 -0.46797341  0.01051982 -0.21805419 -1.20746803\n",
      " -0.0046891  -0.37781399]\n"
     ]
    },
    {
     "data": {
      "image/png": "[encoded data removed]",
      "text/plain": [
       "<matplotlib.figure.Figure at 0x7f602608a650>"
      ]
     },
     "metadata": {},
     "output_type": "display_data"
    }
   ],
   "source": [
    "%matplotlib inline\n",
    "a = tf.random_normal([2, 20])\n",
    "sess = tf.Session()\n",
    "out = sess.run(a)\n",
    "\n",
    "x,y = out \n",
    "print(out)\n",
    "print(x)\n",
    "plt.scatter(x, y)\n",
    "plt.show()"
   ]
  },
  {
   "cell_type": "code",
   "execution_count": 10,
   "metadata": {},
   "outputs": [],
   "source": [
    "a = tf.constant(3, name = 'input_a')\n",
    "b = tf.constant(6, name = 'input_b')\n",
    "c = tf.mul(a, b, name = 'mul_c')\n",
    "d = tf.add(a, b ,name = 'add_d')\n",
    "e = tf.add(c, d ,name = 'output')\n",
    "\n",
    "sess = tf.Session()\n",
    "output = sess.run(e)\n",
    "writer = tf.train.SummaryWriter('./tensorflow_graphs', sess.graph)\n",
    "\n",
    "writer.close()\n",
    "sess.close()"
   ]
  },
  {
   "cell_type": "code",
   "execution_count": 11,
   "metadata": {},
   "outputs": [],
   "source": [
    "a = tf.constant([5,3], name = 'input_a')\n",
    "b = tf.reduce_prod(a, name = 'mul_b')\n",
    "c = tf.reduce_sum(a, name = 'add_c')\n",
    "d = tf.add(b, c, name = 'output_d')\n",
    "\n",
    "sess = tf.Session()\n",
    "output_d = sess.run(d)\n",
    "writer = tf.train.SummaryWriter('./tensorflow_graphs', sess.graph)\n",
    "\n",
    "writer.close()\n",
    "sess.close()"
   ]
  },
  {
   "cell_type": "code",
   "execution_count": null,
   "metadata": {},
   "outputs": [],
   "source": []
  }
 ],
 "metadata": {
  "kernelspec": {
   "display_name": "Python 2",
   "language": "python",
   "name": "python2"
  },
  "language_info": {
   "codemirror_mode": {
    "name": "ipython",
    "version": 2
   },
   "file_extension": ".py",
   "mimetype": "text/x-python",
   "name": "python",
   "nbconvert_exporter": "python",
   "pygments_lexer": "ipython2",
   "version": "2.7.6"
  }
 },
 "nbformat": 4,
 "nbformat_minor": 2
}
